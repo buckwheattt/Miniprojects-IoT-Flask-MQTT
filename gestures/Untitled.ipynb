{
 "cells": [
  {
   "cell_type": "code",
   "execution_count": 1,
   "id": "5470d434-2bea-408f-be54-7223a7c4f6d9",
   "metadata": {},
   "outputs": [
    {
     "name": "stdout",
     "output_type": "stream",
     "text": [
      "Считано файлов: 32\n",
      "Всего строк: 6142\n"
     ]
    },
    {
     "data": {
      "text/html": [
       "<div>\n",
       "<style scoped>\n",
       "    .dataframe tbody tr th:only-of-type {\n",
       "        vertical-align: middle;\n",
       "    }\n",
       "\n",
       "    .dataframe tbody tr th {\n",
       "        vertical-align: top;\n",
       "    }\n",
       "\n",
       "    .dataframe thead th {\n",
       "        text-align: right;\n",
       "    }\n",
       "</style>\n",
       "<table border=\"1\" class=\"dataframe\">\n",
       "  <thead>\n",
       "    <tr style=\"text-align: right;\">\n",
       "      <th></th>\n",
       "      <th>ax</th>\n",
       "      <th>ay</th>\n",
       "      <th>az</th>\n",
       "      <th>gx</th>\n",
       "      <th>gy</th>\n",
       "      <th>gz</th>\n",
       "      <th>label</th>\n",
       "    </tr>\n",
       "  </thead>\n",
       "  <tbody>\n",
       "    <tr>\n",
       "      <th>0</th>\n",
       "      <td>-0.061</td>\n",
       "      <td>0.287</td>\n",
       "      <td>1.162</td>\n",
       "      <td>3.183</td>\n",
       "      <td>12.038</td>\n",
       "      <td>1.588</td>\n",
       "      <td>down</td>\n",
       "    </tr>\n",
       "    <tr>\n",
       "      <th>1</th>\n",
       "      <td>0.024</td>\n",
       "      <td>0.212</td>\n",
       "      <td>0.878</td>\n",
       "      <td>-18.191</td>\n",
       "      <td>17.618</td>\n",
       "      <td>-13.366</td>\n",
       "      <td>down</td>\n",
       "    </tr>\n",
       "    <tr>\n",
       "      <th>2</th>\n",
       "      <td>0.026</td>\n",
       "      <td>0.206</td>\n",
       "      <td>0.884</td>\n",
       "      <td>39.656</td>\n",
       "      <td>-8.191</td>\n",
       "      <td>14.679</td>\n",
       "      <td>down</td>\n",
       "    </tr>\n",
       "    <tr>\n",
       "      <th>3</th>\n",
       "      <td>-0.029</td>\n",
       "      <td>0.287</td>\n",
       "      <td>1.156</td>\n",
       "      <td>26.275</td>\n",
       "      <td>4.626</td>\n",
       "      <td>6.229</td>\n",
       "      <td>down</td>\n",
       "    </tr>\n",
       "    <tr>\n",
       "      <th>4</th>\n",
       "      <td>0.011</td>\n",
       "      <td>0.369</td>\n",
       "      <td>1.163</td>\n",
       "      <td>6.885</td>\n",
       "      <td>-1.817</td>\n",
       "      <td>7.275</td>\n",
       "      <td>down</td>\n",
       "    </tr>\n",
       "  </tbody>\n",
       "</table>\n",
       "</div>"
      ],
      "text/plain": [
       "      ax     ay     az      gx      gy      gz label\n",
       "0 -0.061  0.287  1.162   3.183  12.038   1.588  down\n",
       "1  0.024  0.212  0.878 -18.191  17.618 -13.366  down\n",
       "2  0.026  0.206  0.884  39.656  -8.191  14.679  down\n",
       "3 -0.029  0.287  1.156  26.275   4.626   6.229  down\n",
       "4  0.011  0.369  1.163   6.885  -1.817   7.275  down"
      ]
     },
     "execution_count": 1,
     "metadata": {},
     "output_type": "execute_result"
    }
   ],
   "source": [
    "import pandas as pd\n",
    "import glob\n",
    "\n",
    "# Загружаем все .csv файлы из текущей папки\n",
    "files = glob.glob(\"*.csv\")\n",
    "\n",
    "# Читаем все файлы в список таблиц\n",
    "dfs = [pd.read_csv(f) for f in files]\n",
    "\n",
    "# Склеиваем всё в один большой DataFrame\n",
    "df = pd.concat(dfs, ignore_index=True)\n",
    "\n",
    "# Проверим результат\n",
    "print(f\"Считано файлов: {len(files)}\")\n",
    "print(f\"Всего строк: {len(df)}\")\n",
    "df.head()"
   ]
  },
  {
   "cell_type": "code",
   "execution_count": 2,
   "id": "d6a9cf18-5b14-453e-be07-759c98914235",
   "metadata": {},
   "outputs": [
    {
     "name": "stdout",
     "output_type": "stream",
     "text": [
      "Готово окон: 122\n"
     ]
    }
   ],
   "source": [
    "import numpy as np\n",
    "\n",
    "WINDOW_SIZE = 50\n",
    "X = []\n",
    "y = []\n",
    "\n",
    "for i in range(0, len(df) - WINDOW_SIZE, WINDOW_SIZE):\n",
    "    window = df.iloc[i:i+WINDOW_SIZE]\n",
    "    label = window['label'].mode()[0]  # Самая частая метка\n",
    "    features = window.drop('label', axis=1).values.flatten()\n",
    "    X.append(features)\n",
    "    y.append(label)\n",
    "\n",
    "X = np.array(X)\n",
    "y = np.array(y)\n",
    "\n",
    "print(\"Готово окон:\", len(X))"
   ]
  },
  {
   "cell_type": "code",
   "execution_count": 3,
   "id": "b95301bf-68f2-4bdd-a1b3-10ce29317053",
   "metadata": {},
   "outputs": [
    {
     "name": "stdout",
     "output_type": "stream",
     "text": [
      "              precision    recall  f1-score   support\n",
      "\n",
      "        down       0.78      0.88      0.82         8\n",
      "        idle       1.00      1.00      1.00         3\n",
      "        left       1.00      0.67      0.80         3\n",
      "       right       1.00      1.00      1.00         1\n",
      "          up       0.80      0.80      0.80        10\n",
      "\n",
      "    accuracy                           0.84        25\n",
      "   macro avg       0.92      0.87      0.88        25\n",
      "weighted avg       0.85      0.84      0.84        25\n",
      "\n"
     ]
    }
   ],
   "source": [
    "from sklearn.ensemble import RandomForestClassifier\n",
    "from sklearn.model_selection import train_test_split\n",
    "from sklearn.metrics import classification_report\n",
    "\n",
    "X_train, X_test, y_train, y_test = train_test_split(X, y, test_size=0.2)\n",
    "\n",
    "model = RandomForestClassifier()\n",
    "model.fit(X_train, y_train)\n",
    "\n",
    "preds = model.predict(X_test)\n",
    "print(classification_report(y_test, preds))\n"
   ]
  },
  {
   "cell_type": "code",
   "execution_count": 4,
   "id": "03a6e82c-7016-4d2c-a865-08885fe7a42e",
   "metadata": {},
   "outputs": [],
   "source": [
    "from micromlgen import port\n",
    "\n",
    "c_model = port(model)\n",
    "with open(\"gesture_model.h\", \"w\") as f:\n",
    "    f.write(c_model)\n"
   ]
  },
  {
   "cell_type": "code",
   "execution_count": 5,
   "id": "758523c8-189f-48e1-afe7-08b5b6c982f0",
   "metadata": {},
   "outputs": [
    {
     "data": {
      "text/plain": [
       "['model.pkl']"
      ]
     },
     "execution_count": 5,
     "metadata": {},
     "output_type": "execute_result"
    }
   ],
   "source": [
    "import joblib\n",
    "joblib.dump(model, \"model.pkl\")"
   ]
  },
  {
   "cell_type": "code",
   "execution_count": null,
   "id": "474faed3-d651-487d-854c-044aa98b9252",
   "metadata": {},
   "outputs": [],
   "source": []
  }
 ],
 "metadata": {
  "kernelspec": {
   "display_name": "Python 3 (ipykernel)",
   "language": "python",
   "name": "python3"
  },
  "language_info": {
   "codemirror_mode": {
    "name": "ipython",
    "version": 3
   },
   "file_extension": ".py",
   "mimetype": "text/x-python",
   "name": "python",
   "nbconvert_exporter": "python",
   "pygments_lexer": "ipython3",
   "version": "3.13.2"
  }
 },
 "nbformat": 4,
 "nbformat_minor": 5
}
